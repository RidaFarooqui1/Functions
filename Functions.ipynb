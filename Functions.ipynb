{
  "nbformat": 4,
  "nbformat_minor": 0,
  "metadata": {
    "colab": {
      "provenance": []
    },
    "kernelspec": {
      "name": "python3",
      "display_name": "Python 3"
    },
    "language_info": {
      "name": "python"
    }
  },
  "cells": [
    {
      "cell_type": "markdown",
      "source": [
        "#  1. What is the difference between a Funtion and a method in Python?\n",
        "Ans->  Functions:\n",
        "\n",
        "* Defined out side of any class\n",
        "\n",
        "* called directly by its name, possibly with arguments\n",
        "\n",
        "* Operates on data passed to it as arrgument\n",
        "\n",
        "* Example: -\n",
        "\n",
        "\n",
        "def add(x, y):\n",
        "\n",
        "   return x + y\n",
        "\n",
        "\n",
        "result = add(5, 3)\n",
        "\n",
        "print(result) #output : 8\n",
        "\n",
        "\n",
        "\n",
        "-> Methods:\n",
        "\n",
        "* Defined within a class\n",
        "\n",
        "* Called on an object (instance) of the class using dot notion\n",
        "\n",
        "* Can access and modify the object's attributes\n",
        "\n",
        "* Example: -\n",
        "\n",
        "class Dog:\n",
        "\n",
        " def_init_(self, name):\n",
        "\n",
        "     self.name = name\n",
        "\n",
        " def bark(self):\n",
        "\n",
        "     print(f\"{self.name} says woff!\")\n",
        "\n",
        "\n",
        "my_dog = Dog(\"Buddy\")\n",
        "\n",
        "my_dog.bark()   #output Buddy says woof!\n"
      ],
      "metadata": {
        "id": "YW_iZWZegHp5"
      }
    },
    {
      "cell_type": "markdown",
      "source": [
        "# 2. Explain the concept of function arguments and parameters in Python,\n",
        "\n",
        "Ans-> Parameter/Argumaents: variables passed into the function. Funtions can have multiple parameters or none at all\n",
        "\n",
        "example_args(1, 2, 3, name=\"John\", age=30) #args : (1, 2, 3); #kewargs : {'name' : 'John', 'age' : '30'}\n",
        "\n",
        "\n"
      ],
      "metadata": {
        "id": "CqN77TMAgJOK"
      }
    },
    {
      "cell_type": "markdown",
      "source": [
        "# 3. What are the different ways define and call a function in Python.\n",
        "\n",
        "Ans->\n",
        "\n",
        "* 1 Standard Function Defination\n",
        "* 2 Lambda Functions\n",
        "* Nested Functions\n",
        "\n",
        "Example : one example\n",
        "\n",
        "\n",
        "def greet(name)\n",
        "    print (f\"Hello, {name}!\")\n",
        "\n",
        "greet(\"Alice!\") # Calling Function\n"
      ],
      "metadata": {
        "id": "CSKEAJK4gJyW"
      }
    },
    {
      "cell_type": "markdown",
      "source": [
        "# 4. What is the purpose of the \"return\" statement in a Python function?\n",
        "\n",
        "Ans-> The 'return' statement has two primamry functions i.e\n",
        "exiting a function/ or returning a value\n",
        "examample:\n",
        "\n",
        "def add(x, y)\n",
        "\n",
        "    result = x + y\n",
        "    return reslut\n",
        "\n",
        "sum_of_the_result + add(5, 3)\n",
        "\n",
        "print_sum_of_the_numbers\n",
        "\n",
        "result : #output: 8\n"
      ],
      "metadata": {
        "id": "6fsHXD2vgKHQ"
      }
    },
    {
      "cell_type": "markdown",
      "source": [
        "# 5. What are iterators in Python and how do they differ from iterables?\n",
        "\n",
        "Ans-> An iterator is an object that allows traversal through a countable number of values, it is used to iterate ove iterable objects like lists, tuples, sets etc.\n",
        "\n",
        "example:\n",
        "\n",
        "iter_list = iter(['Apple', 'Mango', 'Guava'])\n",
        "\n",
        "print(next(iter_list))"
      ],
      "metadata": {
        "id": "aS7OoZolgKX4"
      }
    },
    {
      "cell_type": "markdown",
      "source": [
        "# 6. Explain the concept of generators in Pythons and how they are difined.\n",
        "\n",
        "Ans-> Generators are simply a way to creat iterators using functions and the yeild keywords instead of returning values.\n",
        "\n",
        "example: #creationg a generator\n",
        "   gen = countdown(S)\n",
        "\n"
      ],
      "metadata": {
        "id": "iwGQFJSsgKnY"
      }
    },
    {
      "cell_type": "markdown",
      "source": [
        "# 7. What are the advantages of using generators over regular functions?\n",
        "\n",
        "Ans->\n",
        "* Efficient memory storage: Generators do not store the entire sequence in a memory, making them suitable for larger datasets or infinite sequences\n",
        "\n",
        "* Simpler syntax: Using yeild simplifies the creation of iterators, making the code more consice and readable\n",
        "\n",
        "example: #using the generator\n",
        "\n",
        "for num in gen:\n",
        "    print(num)\n",
        "    "
      ],
      "metadata": {
        "id": "_LFjLO6fgK6U"
      }
    },
    {
      "cell_type": "markdown",
      "source": [
        "# 8. What is lambda function in Python and when it is typically used?\n",
        "\n",
        "Ans-> Lambda functions are samll, anonymus functions defined using lambda keyword. They are used for creating samll, throwaway functions without the need to formally define a function using def.\n",
        "\n",
        "Example:\n",
        "square = lambda x: x * x\n",
        "print(square(5))"
      ],
      "metadata": {
        "id": "dRPXp6BBgLI8"
      }
    },
    {
      "cell_type": "markdown",
      "source": [
        "# 9. Explain the purpose and usage of \"map()\" function in Python.\n",
        "\n",
        "Ans-> The map function applies a given function to all the items in an input(like a list) and returns an iterator with the results.\n",
        "\n",
        "example:\n",
        "\n",
        "number = [1, 2, 3, 4]\n",
        "\n",
        "squared = map(lambda x: x * X, numbers)\n",
        "\n",
        "print(list(squared)) #output: [1, 4, 9, 16]\n",
        "\n"
      ],
      "metadata": {
        "id": "MMSvb_iTgLlc"
      }
    },
    {
      "cell_type": "markdown",
      "source": [
        "# 10. What is the difference between 'map()', 'reduce()' and 'filter()' functions in Python?\n",
        "\n",
        "Ans->\n",
        "\n",
        "* Map function: Used to tranform each item in an iterable by applying the specified function.\n",
        "\n",
        "* Reduce function: It reduces an iterable to a single cumulative value by applying the function cumulatively.\n",
        "\n",
        "* Filter function: Used for filttering elementsfrom an iterable based on a condition defined by the function.\n"
      ],
      "metadata": {
        "id": "dJ2G0mCBgLyM"
      }
    },
    {
      "cell_type": "markdown",
      "source": [
        "# 11. Write the internal mechanism for sum operation using reduce function on this give list:[47, 11, 42, 13]\n",
        "\n",
        "\n",
        "\n",
        "![image for import.jpg](data:image/jpeg;base64,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)\n",
        "\n"
      ],
      "metadata": {
        "id": "cpxI5qwJgMBK"
      }
    },
    {
      "cell_type": "markdown",
      "source": [
        "**Practicale Questions**"
      ],
      "metadata": {
        "id": "MmoVwrPlgMN2"
      }
    },
    {
      "cell_type": "markdown",
      "source": [
        "* 1. Write a Python function that takes a list of numbers as input and returns the sum of all even numbers in the list"
      ],
      "metadata": {
        "id": "B2grEUsrgM0a"
      }
    },
    {
      "cell_type": "code",
      "source": [
        "def sum_even_number(numbers):\n",
        "  \"\"\"\n",
        "  Calculate the sum of all even numbers in a given list\n",
        "\n",
        "  Args:\n",
        "    numbers: A list of numbers\n",
        "  Returns:\n",
        "    The sum of all even numbers in the list\n",
        "  \"\"\"\n",
        "  sum = 0\n",
        "  for number in numbers:\n",
        "    if number % 2 == 0:\n",
        "      sum += number\n",
        "  return sum\n",
        "\n",
        "\n",
        "my_list = [1, 2, 3, 4, 5, 6, 7, 8, 9, 10]\n",
        "result = sum_even_number(my_list)\n",
        "print(result)"
      ],
      "metadata": {
        "colab": {
          "base_uri": "https://localhost:8080/"
        },
        "id": "wXMPVSLp9PMu",
        "outputId": "daf22339-cde0-4746-ee07-db68c693bd14"
      },
      "execution_count": null,
      "outputs": [
        {
          "output_type": "stream",
          "name": "stdout",
          "text": [
            "30\n"
          ]
        }
      ]
    },
    {
      "cell_type": "markdown",
      "source": [
        "* 2 Creat a Python function that accepts a string and returns the reverse of the string."
      ],
      "metadata": {
        "id": "UwuiyOYjgNZ2"
      }
    },
    {
      "cell_type": "code",
      "source": [
        "def reverse_string(s):\n",
        "  return s[::1]\n",
        "\n",
        "string = \"Hello!\"\n",
        "reversed_string = reverse_string(string)\n",
        "print(reversed_string)"
      ],
      "metadata": {
        "id": "-Yrrl3xogN01",
        "colab": {
          "base_uri": "https://localhost:8080/"
        },
        "outputId": "32a10d71-98f9-44f2-bcbe-66587e829c5c"
      },
      "execution_count": null,
      "outputs": [
        {
          "output_type": "stream",
          "name": "stdout",
          "text": [
            "Hello!\n"
          ]
        }
      ]
    },
    {
      "cell_type": "markdown",
      "source": [
        "* 3. Implement a Python function that takes a list od integers and returns a new list containing the squares of each number"
      ],
      "metadata": {
        "id": "ZafrMEk7gOWp"
      }
    },
    {
      "cell_type": "code",
      "source": [
        "def square_list(numbers):\n",
        "    \"\"\"\n",
        "\n",
        "    this function takes a list of integers and returns a new list containing the squares of each number\n",
        "\n",
        "    Args:\n",
        "      numbers: A list of integers\n",
        "    Returns:\n",
        "      A new list containing the squares of each number in the original list\n",
        "    \"\"\"\n",
        "    squared_numbers = []\n",
        "    for number in numbers:\n",
        "        squared_numbers.append(number**2)\n",
        "    return squared_numbers\n",
        "\n",
        "my_list = [1, 2, 3, 4, 5]\n",
        "squared_list = square_list(my_list)\n",
        "print(squared_list)"
      ],
      "metadata": {
        "id": "Szwi8-56gOxp",
        "colab": {
          "base_uri": "https://localhost:8080/"
        },
        "outputId": "6b7674f2-80ab-4d5f-845a-045294d8e71a"
      },
      "execution_count": null,
      "outputs": [
        {
          "output_type": "stream",
          "name": "stdout",
          "text": [
            "[1, 4, 9, 16, 25]\n"
          ]
        }
      ]
    },
    {
      "cell_type": "markdown",
      "source": [
        "* 4. Write a Python function that checks if a given number is a prime or not from 1to 200"
      ],
      "metadata": {
        "id": "2UXpP0GbgPEt"
      }
    },
    {
      "cell_type": "code",
      "source": [
        "def is_prime(number):\n",
        "  if number <= 2:\n",
        "    return False\n",
        "  for i in range(2, int(number**0.5)+ 1):\n",
        "    if number % i == 0:\n",
        "      return False\n",
        "  return True\n",
        "\n",
        "def print_prime_in_range(limit):\n",
        "  for num in range(2, limit + 1):\n",
        "    if is_prime(num):\n",
        "      print(num, \"is a prime number\")\n",
        "\n",
        "\n",
        "print_prime_in_range(200)"
      ],
      "metadata": {
        "id": "4-CLMQwngPrh",
        "colab": {
          "base_uri": "https://localhost:8080/"
        },
        "outputId": "73aaf6aa-ece7-4821-db35-4cd63f3f95c9"
      },
      "execution_count": null,
      "outputs": [
        {
          "output_type": "stream",
          "name": "stdout",
          "text": [
            "3 is a prime number\n",
            "5 is a prime number\n",
            "7 is a prime number\n",
            "11 is a prime number\n",
            "13 is a prime number\n",
            "17 is a prime number\n",
            "19 is a prime number\n",
            "23 is a prime number\n",
            "29 is a prime number\n",
            "31 is a prime number\n",
            "37 is a prime number\n",
            "41 is a prime number\n",
            "43 is a prime number\n",
            "47 is a prime number\n",
            "53 is a prime number\n",
            "59 is a prime number\n",
            "61 is a prime number\n",
            "67 is a prime number\n",
            "71 is a prime number\n",
            "73 is a prime number\n",
            "79 is a prime number\n",
            "83 is a prime number\n",
            "89 is a prime number\n",
            "97 is a prime number\n",
            "101 is a prime number\n",
            "103 is a prime number\n",
            "107 is a prime number\n",
            "109 is a prime number\n",
            "113 is a prime number\n",
            "127 is a prime number\n",
            "131 is a prime number\n",
            "137 is a prime number\n",
            "139 is a prime number\n",
            "149 is a prime number\n",
            "151 is a prime number\n",
            "157 is a prime number\n",
            "163 is a prime number\n",
            "167 is a prime number\n",
            "173 is a prime number\n",
            "179 is a prime number\n",
            "181 is a prime number\n",
            "191 is a prime number\n",
            "193 is a prime number\n",
            "197 is a prime number\n",
            "199 is a prime number\n"
          ]
        }
      ]
    },
    {
      "cell_type": "markdown",
      "source": [
        "* 5. Creat a iterate class in Python that generates the Fibonacci sequence upto a specified number of terms"
      ],
      "metadata": {
        "id": "eG7rKf-zgP8v"
      }
    },
    {
      "cell_type": "code",
      "source": [
        "class FibonacciIterator:\n",
        "  def __init__(self, limit):\n",
        "    self.limit = limit\n",
        "    self.current=0\n",
        "    self.next=1\n",
        "    self.count=0\n",
        "\n",
        "  def __iter__(self):\n",
        "    return self\n",
        "\n",
        "  def __next__(self):\n",
        "    if self.count < self.limit:\n",
        "      value = self.current\n",
        "      self.current, self.next = self.next, self.current + self.next\n",
        "      self.count += 1\n",
        "      return value\n",
        "    else:\n",
        "      raise StopIteration\n",
        "\n",
        "fib_iter = FibonacciIterator(10)\n",
        "for num in fib_iter:\n",
        "  print(num)"
      ],
      "metadata": {
        "id": "8Y6AJOlJgQPn",
        "colab": {
          "base_uri": "https://localhost:8080/"
        },
        "outputId": "b97f3f98-59d1-4938-ecd3-0da2a28c9309"
      },
      "execution_count": null,
      "outputs": [
        {
          "output_type": "stream",
          "name": "stdout",
          "text": [
            "0\n",
            "1\n",
            "1\n",
            "2\n",
            "3\n",
            "5\n",
            "8\n",
            "13\n",
            "21\n",
            "34\n"
          ]
        }
      ]
    },
    {
      "cell_type": "markdown",
      "source": [
        "* 6. Write a generator function in Pyhton that yeilds the power of 2 ups to a given exponent."
      ],
      "metadata": {
        "id": "JAte4qnMgQfD"
      }
    },
    {
      "cell_type": "code",
      "source": [
        "\n",
        "def power_of_two(exponent):\n",
        "  \"\"\"\n",
        "  Generate the power of 2 up to the given exponent\n",
        "\n",
        "  Args:\n",
        "       exponent: maximum exponent\n",
        "\n",
        "  Yeilds:\n",
        "       successive power of 2\n",
        "\"\"\"\n",
        "\n",
        "  for i in range(exponent + 1):\n",
        "     yield 2** i\n",
        "\n",
        "for power in power_of_two(5):\n",
        "  print(power)\n"
      ],
      "metadata": {
        "colab": {
          "base_uri": "https://localhost:8080/"
        },
        "id": "iXSRjM40CqVh",
        "outputId": "7ceb0e4d-d8e1-4cf3-f002-0de3c0e88283"
      },
      "execution_count": null,
      "outputs": [
        {
          "output_type": "stream",
          "name": "stdout",
          "text": [
            "1\n",
            "2\n",
            "4\n",
            "8\n",
            "16\n",
            "32\n"
          ]
        }
      ]
    },
    {
      "cell_type": "markdown",
      "source": [
        "* 7. Implement a generator function that reads a file line by line and yields each line as a string."
      ],
      "metadata": {
        "id": "_iJzpttTCrDv"
      }
    },
    {
      "cell_type": "code",
      "source": [
        "def read_file_lines(file_path):\n",
        "  \"\"\"\n",
        "  Read a file line by line and yield each line as a string\n",
        "\n",
        "  Args:\n",
        "    file_path: path to the file\n",
        "\n",
        "  Yeilds:\n",
        "    each line of the file as a string\n",
        "  \"\"\"\n",
        "  try:\n",
        "    with open(file_path, 'r') as file:\n",
        "      for line in file:\n",
        "        yield line.strip()\n",
        "  except FileNotFoundError:\n",
        "    print(f\"File not found: {file_path}\")\n",
        "\n",
        "if __name__ == \"__main__\":\n",
        "    file_path = \"example.txt\"\n",
        "    for line in read_file_lines(file_path):\n",
        "        print(line)"
      ],
      "metadata": {
        "colab": {
          "base_uri": "https://localhost:8080/"
        },
        "id": "DG_T55sFCs5Z",
        "outputId": "16fb367f-10b6-4d71-c564-52d11de18503"
      },
      "execution_count": null,
      "outputs": [
        {
          "output_type": "stream",
          "name": "stdout",
          "text": [
            "File not found: example.txt\n"
          ]
        }
      ]
    },
    {
      "cell_type": "markdown",
      "source": [
        "* 8. Use a lambda function in Python to sort a list of tuples based on the second element of each tuple"
      ],
      "metadata": {
        "id": "g7esvOZ7CtQx"
      }
    },
    {
      "cell_type": "code",
      "source": [
        "a = [(5, 2), (1, 6), (3, 4)]\n",
        "a.sort(key=lambda x: x[1])\n",
        "print(a)"
      ],
      "metadata": {
        "colab": {
          "base_uri": "https://localhost:8080/"
        },
        "id": "GbByBHHdCuud",
        "outputId": "8d4b0791-422e-474a-f425-2731211b5224"
      },
      "execution_count": null,
      "outputs": [
        {
          "output_type": "stream",
          "name": "stdout",
          "text": [
            "[(5, 2), (3, 4), (1, 6)]\n"
          ]
        }
      ]
    },
    {
      "cell_type": "markdown",
      "source": [
        "* 9. Write a Python program that uses 'map()' to convert a list of temperature from Celcius to Fharenheit."
      ],
      "metadata": {
        "id": "t8hceqnzCvHT"
      }
    },
    {
      "cell_type": "code",
      "source": [
        "def celcius_to_fahrenheit(celcius):\n",
        " \"\"\"Convert Celcius to Fahrenheit.\"\"\"\n",
        " return (celcius * 9/5) + 32\n",
        "\n",
        "celcius_temperatures = [0, 10, 20, 30, 40]\n",
        "fahrenheit_temperatures = list(map(celcius_to_fahrenheit, celcius_temperatures))\n",
        "print(fahrenheit_temperatures)"
      ],
      "metadata": {
        "colab": {
          "base_uri": "https://localhost:8080/"
        },
        "id": "20eBJeoKCwSr",
        "outputId": "cc493e08-8e27-4e7b-bc2b-0f65097b67c6"
      },
      "execution_count": null,
      "outputs": [
        {
          "output_type": "stream",
          "name": "stdout",
          "text": [
            "[32.0, 50.0, 68.0, 86.0, 104.0]\n"
          ]
        }
      ]
    },
    {
      "cell_type": "markdown",
      "source": [
        "* 10. Creat a Python program that usues 'filter()'to remove all the vowels from the string."
      ],
      "metadata": {
        "id": "KNMQb-6KCwe_"
      }
    },
    {
      "cell_type": "code",
      "source": [
        "a = list(\"sample\")\n",
        "\n",
        "def vowel(x):\n",
        "    v = ('a','e', 'i', 'o', 'u')\n",
        "    return x in v\n",
        "\n",
        "b = list(filter(vowel, a))\n",
        "print(\"Vowels:\", b)\n",
        "print(\"Consonants:\", a)"
      ],
      "metadata": {
        "colab": {
          "base_uri": "https://localhost:8080/"
        },
        "id": "6ZtiX-nOCyDm",
        "outputId": "ca1f1260-94fb-4e41-f2f6-938f34337aaf"
      },
      "execution_count": null,
      "outputs": [
        {
          "output_type": "stream",
          "name": "stdout",
          "text": [
            "Vowels: ['a', 'e']\n",
            "Consonants: ['s', 'a', 'm', 'p', 'l', 'e']\n"
          ]
        }
      ]
    },
    {
      "cell_type": "markdown",
      "source": [
        "* 11. Account book question."
      ],
      "metadata": {
        "id": "DhzFBpbGCybh"
      }
    },
    {
      "cell_type": "code",
      "source": [
        "def process_orders(order_data):\n",
        "\n",
        "  \"\"\"\n",
        "Process a list of book shop orders, returning a list of 2-tuples.\n",
        "\n",
        "Each tuple contains the order number and the calculated total amount,\n",
        "which is the product of price per item and quantity, incremented by 10\n",
        "if the total amount is less then 100.\n",
        "\n",
        "Args:\n",
        "  order_data: A list of sublists, where each sublist contains\n",
        "       [order_number, book_title, quantity, price_per_item]\n",
        "\n",
        "Returns:\n",
        "A list 2-tuples, where each tuple is (order_number, total_amount)\n",
        "def process_orders(order_data):\n",
        "\n",
        "  \"\"\"\n",
        "\n",
        "\n",
        "  return list(map(\n",
        "    lambda order:(\n",
        "       order[0],\n",
        "       order[2] * order[3] + (10 if order[2] * order[3] < 100 else 0)\n",
        "    ),\n",
        "    order_data\n",
        "))\n",
        "\n",
        "order_data = [\n",
        "    [34587, \"Learning Python\", 4, 40.95],\n",
        "    [98762, \"Programming Pyhton\", 5, 56.80],\n",
        "    [77226, \"Head First Python\", 3, 32.95],\n",
        "    [88112, \"Einführung in Python3\", 3, 24.99]\n",
        "]\n",
        "processed_orders = process_orders(order_data)\n",
        "print(processed_orders)\n",
        ""
      ],
      "metadata": {
        "id": "IX0W1UMeCz1k",
        "colab": {
          "base_uri": "https://localhost:8080/"
        },
        "outputId": "50abc9a9-51a1-43f2-d692-6aabbe89960d"
      },
      "execution_count": 14,
      "outputs": [
        {
          "output_type": "stream",
          "name": "stdout",
          "text": [
            "[(34587, 163.8), (98762, 284.0), (77226, 108.85000000000001), (88112, 84.97)]\n"
          ]
        }
      ]
    }
  ]
}